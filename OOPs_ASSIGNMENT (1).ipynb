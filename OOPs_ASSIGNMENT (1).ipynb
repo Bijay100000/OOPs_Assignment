{
  "nbformat": 4,
  "nbformat_minor": 0,
  "metadata": {
    "colab": {
      "provenance": []
    },
    "kernelspec": {
      "name": "python3",
      "display_name": "Python 3"
    },
    "language_info": {
      "name": "python"
    }
  },
  "cells": [
    {
      "cell_type": "markdown",
      "source": [
        "1. What is Object-Oriented Programming (OOP)?\n",
        ">> Object-Oriented Programming (OOP) is a programming paradigm based on the concept of \"objects\", which are instances of classes. These objects contain both data (attributes) and methods (functions) that operate on the data."
      ],
      "metadata": {
        "id": "EQgKoQ6-er7P"
      }
    },
    {
      "cell_type": "markdown",
      "source": [
        "2. What is a class in OOP?\n",
        ">> A class in OOP is a blueprint or template for creating objects that defines attributes (data) and methods (functions) that the objects will have.\n",
        "\n",
        "\n",
        "\n",
        "\n",
        "\n",
        "\n",
        "\n",
        "\n"
      ],
      "metadata": {
        "id": "bpcmuZVAfc8T"
      }
    },
    {
      "cell_type": "markdown",
      "source": [
        "3. What is an object in OOP?\n",
        ">> An **object** in OOP is an instance of a class that contains actual values for the attributes and can use the methods defined by the class.\n",
        "\n"
      ],
      "metadata": {
        "id": "bd8HF_vcgIUY"
      }
    },
    {
      "cell_type": "markdown",
      "source": [
        "4. What is the difference between abstraction and encapsulation?\n",
        ">> Abstraction hides complex implementation details and shows only essential features, while encapsulation bundles data and methods together and restricts direct access to some components to protect the integrity of the object.\n",
        "\n"
      ],
      "metadata": {
        "id": "fUQ0ftf6gdvf"
      }
    },
    {
      "cell_type": "markdown",
      "source": [
        "5. What are dunder methods in Python?\n",
        ">> Dunder methods in Python (short for \"double underscore methods\") are special methods with names that begin and end with double underscores (e.g., `__init__`, `__str__`). They enable customization of class behavior and allow objects to interact with Python's built-in functions and operators.\n"
      ],
      "metadata": {
        "id": "e06xiTvGg-fG"
      }
    },
    {
      "cell_type": "markdown",
      "source": [
        " 6. Explain the concept of inheritance in OOP.\n",
        " >> Inheritance in OOP is the mechanism by which a class (child or subclass) can acquire properties and behaviors (attributes and methods) from another class (parent or superclass), allowing for code reuse and the creation of hierarchical relationships.\n"
      ],
      "metadata": {
        "id": "R8F-NjlZhXhN"
      }
    },
    {
      "cell_type": "markdown",
      "source": [
        "7. What is polymorphism in OOP?\n",
        ">> **Polymorphism** in OOP is the ability of different classes to respond to the same method call in different ways, allowing the same interface to be used for different underlying data types or classes.\n"
      ],
      "metadata": {
        "id": "C6faxfUziA5-"
      }
    },
    {
      "cell_type": "markdown",
      "source": [
        "8. How is encapsulation achieved in Python?\n",
        ">> Encapsulation in Python is achieved by defining class attributes as **private** (using a leading underscore `_` or double underscore `__`) and providing **getter and setter methods** to control access and modification.\n"
      ],
      "metadata": {
        "id": "B_qhCOqQiXe1"
      }
    },
    {
      "cell_type": "markdown",
      "source": [
        "9. What is a constructor in Python?\n",
        ">> A **constructor** in Python is a special method called `__init__` that is automatically invoked when a new object of a class is created, used to initialize the object's attributes.\n"
      ],
      "metadata": {
        "id": "I0LFoRbRiond"
      }
    },
    {
      "cell_type": "markdown",
      "source": [
        "10. What are class and static methods in Python?\n",
        ">> **Class methods** are methods that operate on the class itself rather than instances, defined with `@classmethod` and take `cls` as the first parameter.\n",
        "**Static methods** are methods that do not access instance or class data, defined with `@staticmethod`, and do not take `self` or `cls` as a parameter.\n"
      ],
      "metadata": {
        "id": "xOt4ndrfi8RN"
      }
    },
    {
      "cell_type": "markdown",
      "source": [
        "11. What is method overloading in Python?\n",
        ">> **Method overloading** in Python refers to defining multiple methods with the same name but different parameters (number or type). However, Python does not support traditional method overloading like some other languages (e.g., Java). Instead, you can achieve similar behavior by using default arguments or variable-length argument lists (`*args` and `**kwargs`).\n"
      ],
      "metadata": {
        "id": "V1xoxwT-jXfV"
      }
    },
    {
      "cell_type": "markdown",
      "source": [
        "12.  What is method overriding in OOP?\n",
        ">> **Method overriding** in OOP occurs when a subclass provides its own implementation of a method that is already defined in its parent class. The subclass method has the same name, signature, and parameters as the parent class method, and it overrides the parent method's behavior.\n"
      ],
      "metadata": {
        "id": "VBuDaCo8jqf9"
      }
    },
    {
      "cell_type": "markdown",
      "source": [
        "13. What is a property decorator in Python?\n",
        ">> A **property decorator** in Python is used to define a method as a property, allowing it to be accessed like an attribute. It is created using the `@property` decorator, enabling getter, setter, and deleter methods for an attribute without directly accessing the underlying variable.\n"
      ],
      "metadata": {
        "id": "ln2HSNaYj0sd"
      }
    },
    {
      "cell_type": "markdown",
      "source": [
        "14. Why is polymorphism important in OOP?\n",
        ">> Polymorphism is important in OOP because it allows for **flexibility and scalability** in code. It enables objects of different classes to be treated as instances of a common superclass, allowing methods to be called in a uniform way, even if the underlying implementation differs. This leads to **code reuse**, easier maintenance, and the ability to extend systems without changing existing code.\n"
      ],
      "metadata": {
        "id": "sX-Yq58qj76N"
      }
    },
    {
      "cell_type": "markdown",
      "source": [
        "15. What is an abstract class in Python?\n",
        ">> An **abstract class** in Python is a class that cannot be instantiated directly and is meant to be subclassed. It defines abstract methods that must be implemented by its subclasses. Abstract classes are defined using the `abc` module, with the `ABC` class as a base and `@abstractmethod` decorator for abstract methods.\n"
      ],
      "metadata": {
        "id": "93deI_MhkJLF"
      }
    },
    {
      "cell_type": "markdown",
      "source": [
        "16.  What are the advantages of OOP?\n",
        ">> The advantages of OOP are:\n",
        "\n",
        "1 **Modularity**: Code is organized into classes and objects, making it easier to manage.\n",
        "2 **Reusability**: Classes can be reused through inheritance, reducing redundancy.\n",
        "3 **Scalability**: OOP makes it easier to scale and extend systems.\n",
        "4 **Maintainability**: Encapsulation and abstraction simplify code maintenance and debugging.\n",
        "5 **Flexibility**: Polymorphism allows for flexible and adaptable code.\n",
        "\n"
      ],
      "metadata": {
        "id": "odZuUMgrkags"
      }
    },
    {
      "cell_type": "markdown",
      "source": [],
      "metadata": {
        "id": "VtzqvhUilMDM"
      }
    },
    {
      "cell_type": "markdown",
      "source": [
        "17. What is the difference between a class variable and an instance variable?\n",
        ">> A **class variable** is shared by all instances of a class and is defined within the class but outside of any methods. It is accessed using the class name or an instance.\n",
        "\n",
        "An **instance variable** is specific to each object (instance) of the class, defined within methods, typically in the `__init__` constructor, and accessed through the instance.\n"
      ],
      "metadata": {
        "id": "7CiNIysDl-Ys"
      }
    },
    {
      "cell_type": "markdown",
      "source": [
        "18.  What is multiple inheritance in Python?\n",
        ">> Multiple inheritance in Python is the ability of a class to inherit attributes and methods from more than one parent class. This allows a class to combine behaviors from multiple sources, promoting code reuse and flexibility.\n",
        "\n",
        "Example:"
      ],
      "metadata": {
        "id": "lxWcPufumZNW"
      }
    },
    {
      "cell_type": "code",
      "source": [
        "class A:\n",
        "    def method_a(self):\n",
        "        print(\"Method from A\")\n",
        "\n",
        "class B:\n",
        "    def method_b(self):\n",
        "        print(\"Method from B\")\n",
        "\n",
        "class C(A, B):  # Multiple inheritance\n",
        "    pass\n",
        "\n",
        "obj = C()\n",
        "obj.method_a()  # Output: Method from A\n",
        "obj.method_b()  # Output: Method from B\n"
      ],
      "metadata": {
        "colab": {
          "base_uri": "https://localhost:8080/"
        },
        "id": "6anMX0xymsq0",
        "outputId": "10471775-8664-4897-80f5-275f4f2ed639"
      },
      "execution_count": null,
      "outputs": [
        {
          "output_type": "stream",
          "name": "stdout",
          "text": [
            "Method from A\n",
            "Method from B\n"
          ]
        }
      ]
    },
    {
      "cell_type": "markdown",
      "source": [
        "19. Explain the purpose of ‘’__str__’ and ‘__repr__’ ‘ methods in Python.\n",
        ">> The __str__ and __repr__ methods in Python serve to define how an object is represented as a string, but they are used for different purposes:\n",
        "\n",
        "1 __str__: It is used to define a \"user-friendly\" string representation of an object. When you call str(object), this method is invoked. Its goal is to provide a readable or informal representation of the object for the end user.\n",
        "\n",
        "2 __repr__: It is used to define a \"formal\" or \"developer-friendly\" string representation of an object. The goal is to provide a detailed string that could be used to recreate the object, or at least give enough information about it. When you call repr(object) or enter the object in the interactive interpreter, __repr__ is used.\n",
        "\n",
        "Example:"
      ],
      "metadata": {
        "id": "OsPj3alFm_vk"
      }
    },
    {
      "cell_type": "code",
      "source": [
        "class Person:\n",
        "    def __init__(self, name, age):\n",
        "        self.name = name\n",
        "        self.age = age\n",
        "\n",
        "    def __str__(self):\n",
        "        return f\"Person: {self.name}, {self.age} years old\"\n",
        "\n",
        "    def __repr__(self):\n",
        "        return f\"Person('{self.name}', {self.age})\"\n",
        "\n",
        "p = Person(\"Bijay\", 22)\n",
        "print(str(p))  # Output: Person: Bijay, 22 years old\n",
        "print(repr(p))  # Output: Person('Bijay', 22)\n"
      ],
      "metadata": {
        "colab": {
          "base_uri": "https://localhost:8080/"
        },
        "id": "5ECrt6DonWrc",
        "outputId": "71beb4b9-04eb-499b-890f-754c93082dfe"
      },
      "execution_count": null,
      "outputs": [
        {
          "output_type": "stream",
          "name": "stdout",
          "text": [
            "Person: Bijay, 22 years old\n",
            "Person('Bijay', 22)\n"
          ]
        }
      ]
    },
    {
      "cell_type": "markdown",
      "source": [
        "20. What is the significance of the ‘super()’ function in Python?\n",
        ">> The super() function in Python is used to call methods from a parent class in a subclass, typically within the subclass's method. It allows you to access and invoke methods from the parent class without directly referring to the parent class by name. This is particularly useful in inheritance to ensure that the parent class's methods are properly executed, especially when overriding methods in the subclass.\n",
        "\n",
        "Significance:\n",
        "1 Method Resolution Order (MRO): It helps in correctly following the MRO in cases of multiple inheritance.\n",
        "\n",
        "2 Code Reusability: It allows a subclass to reuse the functionality of the parent class, making the code more maintainable.\n",
        "\n",
        "3 Avoiding Redundancy: It helps in avoiding explicitly referring to the parent class when calling its methods.\n",
        "\n",
        "Example:"
      ],
      "metadata": {
        "id": "8FFOch5In_Bj"
      }
    },
    {
      "cell_type": "code",
      "source": [
        "class Animal:\n",
        "    def speak(self):\n",
        "        print(\"Animal speaks\")\n",
        "\n",
        "class Dog(Animal):\n",
        "    def speak(self):\n",
        "        super().speak()  # Call the parent class method\n",
        "        print(\"Dog barks\")\n",
        "\n",
        "dog = Dog()\n",
        "dog.speak()\n",
        "# Output:\n",
        "# Animal speaks\n",
        "# Dog barks\n"
      ],
      "metadata": {
        "colab": {
          "base_uri": "https://localhost:8080/"
        },
        "id": "UlPoZM_joW8E",
        "outputId": "8f42c2b5-6001-4f51-c972-bf4c311e1f80"
      },
      "execution_count": null,
      "outputs": [
        {
          "output_type": "stream",
          "name": "stdout",
          "text": [
            "Animal speaks\n",
            "Dog barks\n"
          ]
        }
      ]
    },
    {
      "cell_type": "markdown",
      "source": [
        "21. What is the significance of the __del__ method in Python?\n",
        ">> The `__del__` method in Python is a **destructor** that is called when an object is about to be destroyed. It allows you to define cleanup actions, such as releasing resources or closing files, before the object is removed from memory. However, its use is generally discouraged, as Python’s garbage collector automatically handles memory management.\n"
      ],
      "metadata": {
        "id": "kiTiqQtNonEk"
      }
    },
    {
      "cell_type": "markdown",
      "source": [
        "22. What is the difference between @staticmethod and @classmethod in Python?\n",
        ">> The difference between @staticmethod and @classmethod in Python:\n",
        "\n",
        "@staticmethod: Defines a method that doesn't access or modify the class or instance state. It doesn't take self or cls as the first parameter.\n",
        "\n",
        "@classmethod: Defines a method that operates on the class itself, not instances. It takes cls as the first parameter and can access or modify class-level data.\n",
        "\n",
        "Example:"
      ],
      "metadata": {
        "id": "Bz_2eEMko4x7"
      }
    },
    {
      "cell_type": "code",
      "source": [
        "class MyClass:\n",
        "    @staticmethod\n",
        "    def static_method():\n",
        "        print(\"This is a static method\")\n",
        "\n",
        "    @classmethod\n",
        "    def class_method(cls):\n",
        "        print(f\"This is a class method of {cls}\")\n",
        "\n",
        "obj = MyClass()\n",
        "obj.static_method()  # No class or instance access\n",
        "obj.class_method()   # Accesses the class itself\n"
      ],
      "metadata": {
        "id": "RUTOeO1SpMqs",
        "outputId": "bb640208-cb43-4df6-b7da-e28bb7f7abe0",
        "colab": {
          "base_uri": "https://localhost:8080/"
        }
      },
      "execution_count": null,
      "outputs": [
        {
          "output_type": "stream",
          "name": "stdout",
          "text": [
            "This is a static method\n",
            "This is a class method of <class '__main__.MyClass'>\n"
          ]
        }
      ]
    },
    {
      "cell_type": "markdown",
      "source": [
        "23. How does polymorphism work in Python with inheritance?\n",
        ">> Polymorphism in Python with inheritance allows methods in a subclass to have the same name as in the parent class but behave differently. It lets you use a unified interface while the underlying behavior depends on the object’s class."
      ],
      "metadata": {
        "id": "4TBMlVorpaFc"
      }
    },
    {
      "cell_type": "markdown",
      "source": [
        "24. What is method chaining in Python OOP?\n",
        ">> Method chaining in Python OOP is when you call multiple methods on the same object in a single line, each returning self to allow the next call.\n",
        "\n",
        "Example:"
      ],
      "metadata": {
        "id": "6RRlh65tsLOj"
      }
    },
    {
      "cell_type": "code",
      "source": [
        "class Person:\n",
        "    def set_name(self, name):\n",
        "        self.name = name\n",
        "        return self\n",
        "    def set_age(self, age):\n",
        "        self.age = age\n",
        "        return self\n",
        "\n",
        "p = Person().set_name(\"Bijay\").set_age(22)\n"
      ],
      "metadata": {
        "id": "cA0eu0AFsfXS"
      },
      "execution_count": null,
      "outputs": []
    },
    {
      "cell_type": "markdown",
      "source": [
        "25. What is the purpose of the __call__ method in Python?\n",
        ">> What is the purpose of the __call__ method in Python\n",
        "\n",
        "\n",
        "ChatGPT said:\n",
        "The __call__ method in Python lets an object be called like a function.\n",
        "\n",
        "Purpose:\n",
        "It allows instances of a class to be used as if they were functions, adding flexibility or custom behavior.\n",
        "\n",
        "Example:"
      ],
      "metadata": {
        "id": "CQqmU7RGtok6"
      }
    },
    {
      "cell_type": "code",
      "source": [
        "class Greeter:\n",
        "    def __call__(self, name):\n",
        "        return f\"Hello, {name}!\"\n",
        "\n",
        "greet = Greeter()\n",
        "print(greet(\"Bijay\"))  # Output: Hello, Bijay!\n"
      ],
      "metadata": {
        "colab": {
          "base_uri": "https://localhost:8080/"
        },
        "id": "_u9n0CJ1t0Fa",
        "outputId": "88504206-df29-4856-db13-21e8f9e9a7e6"
      },
      "execution_count": null,
      "outputs": [
        {
          "output_type": "stream",
          "name": "stdout",
          "text": [
            "Hello, Bijay!\n"
          ]
        }
      ]
    },
    {
      "cell_type": "markdown",
      "source": [
        "**Practical Question : -**"
      ],
      "metadata": {
        "id": "kJjo5btBqwjc"
      }
    },
    {
      "cell_type": "markdown",
      "source": [
        "1. Create a parent class Animal with a method speak() that prints a generic message. Create a child class Dog\n",
        "that overrides the speak() method to print \"Bark!\".\n",
        "\n",
        ">>  Here's a simple Python example that demonstrates inheritance and method overriding with the classes Animal and Dog:"
      ],
      "metadata": {
        "id": "3j772vXmsUqs"
      }
    },
    {
      "cell_type": "code",
      "source": [
        "# Parent class\n",
        "class Animal:\n",
        "    def speak(self):\n",
        "        print(\"The animal makes a sound.\")\n",
        "\n",
        "# Child class\n",
        "class Dog(Animal):\n",
        "    def speak(self):\n",
        "        print(\"Bark!\")\n",
        "\n",
        "# Example usage\n",
        "a = Animal()\n",
        "a.speak()  # Output: The animal makes a sound.\n",
        "\n",
        "d = Dog()\n",
        "d.speak()  # Output: Bark!\n"
      ],
      "metadata": {
        "colab": {
          "base_uri": "https://localhost:8080/"
        },
        "id": "DG6HRrIYtENE",
        "outputId": "65399e78-c749-4490-8bb5-61e502fcdd42"
      },
      "execution_count": 1,
      "outputs": [
        {
          "output_type": "stream",
          "name": "stdout",
          "text": [
            "The animal makes a sound.\n",
            "Bark!\n"
          ]
        }
      ]
    },
    {
      "cell_type": "markdown",
      "source": [
        "2.  Write a program to create an abstract class Shape with a method area(). Derive classes Circle and Rectangle\n",
        "from it and implement the area() method in both\n",
        ">>  "
      ],
      "metadata": {
        "id": "Wnu2oIcxtMQc"
      }
    },
    {
      "cell_type": "code",
      "source": [
        "from abc import ABC, abstractmethod\n",
        "import math\n",
        "\n",
        "# Abstract class\n",
        "class Shape(ABC):\n",
        "    @abstractmethod\n",
        "    def area(self):\n",
        "        pass\n",
        "\n",
        "# Derived class - Circle\n",
        "class Circle(Shape):\n",
        "    def __init__(self, radius):\n",
        "        self.radius = radius\n",
        "\n",
        "    def area(self):\n",
        "        return math.pi * self.radius ** 2\n",
        "\n",
        "# Derived class - Rectangle\n",
        "class Rectangle(Shape):\n",
        "    def __init__(self, width, height):\n",
        "        self.width = width\n",
        "        self.height = height\n",
        "\n",
        "    def area(self):\n",
        "        return self.width * self.height\n",
        "\n",
        "# Example usage\n",
        "c = Circle(5)\n",
        "print(\"Area of Circle:\", c.area())\n",
        "\n",
        "r = Rectangle(4, 6)\n",
        "print(\"Area of Rectangle:\", r.area())\n"
      ],
      "metadata": {
        "colab": {
          "base_uri": "https://localhost:8080/"
        },
        "id": "xKdu1Kx9t4Kk",
        "outputId": "7215c7fc-3d1a-434e-f37c-3d292b9332f5"
      },
      "execution_count": 2,
      "outputs": [
        {
          "output_type": "stream",
          "name": "stdout",
          "text": [
            "Area of Circle: 78.53981633974483\n",
            "Area of Rectangle: 24\n"
          ]
        }
      ]
    },
    {
      "cell_type": "markdown",
      "source": [
        "3.  Implement a multi-level inheritance scenario where a class Vehicle has an attribute type. Derive a class Car\n",
        "and further derive a class ElectricCar that adds a battery attribute."
      ],
      "metadata": {
        "id": "sjPLBgsouI9z"
      }
    },
    {
      "cell_type": "code",
      "source": [
        "# Base class\n",
        "class Vehicle:\n",
        "    def __init__(self, vehicle_type):\n",
        "        self.type = vehicle_type\n",
        "\n",
        "# Derived class from Vehicle\n",
        "class Car(Vehicle):\n",
        "    def __init__(self, vehicle_type, brand):\n",
        "        super().__init__(vehicle_type)\n",
        "        self.brand = brand\n",
        "\n",
        "# Further derived class from Car\n",
        "class ElectricCar(Car):\n",
        "    def __init__(self, vehicle_type, brand, battery_capacity):\n",
        "        super().__init__(vehicle_type, brand)\n",
        "        self.battery = battery_capacity\n",
        "\n",
        "# Example usage\n",
        "e_car = ElectricCar(\"Four-Wheeler\", \"Tata\", \"75 kWh\")\n",
        "print(\"Type:\", e_car.type)\n",
        "print(\"Brand:\", e_car.brand)\n",
        "print(\"Battery:\", e_car.battery)\n"
      ],
      "metadata": {
        "colab": {
          "base_uri": "https://localhost:8080/"
        },
        "id": "v1N3iGzouNt1",
        "outputId": "e315438d-8148-4315-f443-20794d4a3d34"
      },
      "execution_count": 5,
      "outputs": [
        {
          "output_type": "stream",
          "name": "stdout",
          "text": [
            "Type: Four-Wheeler\n",
            "Brand: Tata \n",
            "Battery: 75 kWh\n"
          ]
        }
      ]
    },
    {
      "cell_type": "markdown",
      "source": [
        "4.  Demonstrate polymorphism by creating a base class Bird with a method fly(). Create two derived classes\n",
        "Sparrow and Penguin that override the fly() method"
      ],
      "metadata": {
        "id": "UTSuzLN-veJr"
      }
    },
    {
      "cell_type": "code",
      "source": [
        "# Base class\n",
        "class Bird:\n",
        "    def fly(self):\n",
        "        print(\"Bird is flying\")\n",
        "\n",
        "# Derived class - Sparrow\n",
        "class Sparrow(Bird):\n",
        "    def fly(self):\n",
        "        print(\"Sparrow can fly high\")\n",
        "\n",
        "# Derived class - Penguin\n",
        "class Penguin(Bird):\n",
        "    def fly(self):\n",
        "        print(\"Penguins can't fly, they waddle\")\n",
        "\n",
        "# Example of polymorphism\n",
        "def show_flight(bird):\n",
        "    bird.fly()\n",
        "\n",
        "# Creating objects\n",
        "sparrow = Sparrow()\n",
        "penguin = Penguin()\n",
        "\n",
        "# Using polymorphism\n",
        "show_flight(sparrow)  # Output: Sparrow can fly high\n",
        "show_flight(penguin)  # Output: Penguins can't fly, they waddle\n"
      ],
      "metadata": {
        "colab": {
          "base_uri": "https://localhost:8080/"
        },
        "id": "y4HBLe3uvId7",
        "outputId": "a20ba793-f90d-4da7-c03f-033424c17b02"
      },
      "execution_count": 7,
      "outputs": [
        {
          "output_type": "stream",
          "name": "stdout",
          "text": [
            "Sparrow can fly high\n",
            "Penguins can't fly, they waddle\n"
          ]
        }
      ]
    },
    {
      "cell_type": "markdown",
      "source": [
        "5. Write a program to demonstrate encapsulation by creating a class BankAccount with private attributes\n",
        "balance and methods to deposit, withdraw, and check balance"
      ],
      "metadata": {
        "id": "yQEMCpLNvjOr"
      }
    },
    {
      "cell_type": "code",
      "source": [
        "class BankAccount:\n",
        "    def __init__(self, initial_balance=0):\n",
        "        self.__balance = initial_balance  # Private attribute\n",
        "\n",
        "    # Method to deposit money\n",
        "    def deposit(self, amount):\n",
        "        if amount > 0:\n",
        "            self.__balance += amount\n",
        "            print(f\"Deposited: {amount}\")\n",
        "        else:\n",
        "            print(\"Invalid deposit amount.\")\n",
        "\n",
        "    # Method to withdraw money\n",
        "    def withdraw(self, amount):\n",
        "        if 0 < amount <= self.__balance:\n",
        "            self.__balance -= amount\n",
        "            print(f\"Withdrew: {amount}\")\n",
        "        else:\n",
        "            print(\"Invalid or insufficient funds.\")\n",
        "\n",
        "    # Method to check balance\n",
        "    def check_balance(self):\n",
        "        print(f\"Current Balance: {self.__balance}\")\n",
        "\n",
        "# Example usage\n",
        "account = BankAccount(1000)\n",
        "account.deposit(500)\n",
        "account.withdraw(300)\n",
        "account.check_balance()\n"
      ],
      "metadata": {
        "colab": {
          "base_uri": "https://localhost:8080/"
        },
        "id": "wQRC1g3wvoV7",
        "outputId": "50ad3111-5517-4941-b19a-b82c48142b76"
      },
      "execution_count": 8,
      "outputs": [
        {
          "output_type": "stream",
          "name": "stdout",
          "text": [
            "Deposited: 500\n",
            "Withdrew: 300\n",
            "Current Balance: 1200\n"
          ]
        }
      ]
    },
    {
      "cell_type": "markdown",
      "source": [
        "6.  Demonstrate runtime polymorphism using a method play() in a base class Instrument. Derive classes Guitar\n",
        "and Piano that implement their own version of play()"
      ],
      "metadata": {
        "id": "rGc-LZxlv12b"
      }
    },
    {
      "cell_type": "code",
      "source": [
        "# Base class\n",
        "class Instrument:\n",
        "    def play(self):\n",
        "        print(\"Playing an instrument\")\n",
        "\n",
        "# Derived class - Guitar\n",
        "class Guitar(Instrument):\n",
        "    def play(self):\n",
        "        print(\"Strumming the guitar\")\n",
        "\n",
        "# Derived class - Piano\n",
        "class Piano(Instrument):\n",
        "    def play(self):\n",
        "        print(\"Playing the piano\")\n",
        "\n",
        "# Function to demonstrate runtime polymorphism\n",
        "def start_playing(instrument):\n",
        "    instrument.play()\n",
        "\n",
        "# Example usage\n",
        "g = Guitar()\n",
        "p = Piano()\n",
        "\n",
        "start_playing(g)  # Output: Strumming the guitar\n",
        "start_playing(p)  # Output: Playing the piano\n"
      ],
      "metadata": {
        "colab": {
          "base_uri": "https://localhost:8080/"
        },
        "id": "3bqLtuEgv-R7",
        "outputId": "dd75aada-8f49-4010-dffa-bab4e387503a"
      },
      "execution_count": 9,
      "outputs": [
        {
          "output_type": "stream",
          "name": "stdout",
          "text": [
            "Strumming the guitar\n",
            "Playing the piano\n"
          ]
        }
      ]
    },
    {
      "cell_type": "markdown",
      "source": [
        "7. Create a class MathOperations with a class method add_numbers() to add two numbers and a static\n",
        "method subtract_numbers() to subtract two numbers"
      ],
      "metadata": {
        "id": "7-iXFiw7wIST"
      }
    },
    {
      "cell_type": "code",
      "source": [
        "class MathOperations:\n",
        "    @classmethod\n",
        "    def add_numbers(cls, a, b):\n",
        "        return a + b\n",
        "\n",
        "    @staticmethod\n",
        "    def subtract_numbers(a, b):\n",
        "        return a - b\n",
        "\n",
        "# Example usage\n",
        "sum_result = MathOperations.add_numbers(10, 5)\n",
        "print(\"Sum:\", sum_result)\n",
        "\n",
        "diff_result = MathOperations.subtract_numbers(10, 5)\n",
        "print(\"Difference:\", diff_result)\n"
      ],
      "metadata": {
        "colab": {
          "base_uri": "https://localhost:8080/"
        },
        "id": "Ch9nPXV3wNoq",
        "outputId": "75a524a5-d40e-40d3-b543-e622f702a955"
      },
      "execution_count": 10,
      "outputs": [
        {
          "output_type": "stream",
          "name": "stdout",
          "text": [
            "Sum: 15\n",
            "Difference: 5\n"
          ]
        }
      ]
    },
    {
      "cell_type": "markdown",
      "source": [
        "8.  Implement a class Person with a class method to count the total number of persons created."
      ],
      "metadata": {
        "id": "mVxQ77zNwU5b"
      }
    },
    {
      "cell_type": "code",
      "source": [
        "class Person:\n",
        "    # Class variable to keep track of the number of Person objects created\n",
        "    count = 0\n",
        "\n",
        "    def __init__(self, name, age):\n",
        "        self.name = name\n",
        "        self.age = age\n",
        "        Person.count += 1  # Increment count each time a new Person is created\n",
        "\n",
        "    # Class method to get the total number of persons created\n",
        "    @classmethod\n",
        "    def total_persons(cls):\n",
        "        return cls.count\n",
        "\n",
        "# Example usage\n",
        "p1 = Person(\"Alice\", 30)\n",
        "p2 = Person(\"Bob\", 25)\n",
        "p3 = Person(\"Charlie\", 35)\n",
        "\n",
        "# Get total number of persons created using the class method\n",
        "print(\"Total number of persons created:\", Person.total_persons())\n"
      ],
      "metadata": {
        "colab": {
          "base_uri": "https://localhost:8080/"
        },
        "id": "BRJPz98bwazT",
        "outputId": "5b738765-1f36-4c88-973e-8fe0a0179c21"
      },
      "execution_count": 11,
      "outputs": [
        {
          "output_type": "stream",
          "name": "stdout",
          "text": [
            "Total number of persons created: 3\n"
          ]
        }
      ]
    },
    {
      "cell_type": "markdown",
      "source": [
        "9. . Write a class Fraction with attributes numerator and denominator. Override the str method to display the\n",
        "fraction as \"numerator/denominator\"."
      ],
      "metadata": {
        "id": "-_NKafwSwoa7"
      }
    },
    {
      "cell_type": "code",
      "source": [
        "class Fraction:\n",
        "    def __init__(self, numerator, denominator):\n",
        "        self.numerator = numerator\n",
        "        self.denominator = denominator\n",
        "\n",
        "    # Override the __str__ method to display the fraction as \"numerator/denominator\"\n",
        "    def __str__(self):\n",
        "        return f\"{self.numerator}/{self.denominator}\"\n",
        "\n",
        "# Example usage\n",
        "fraction = Fraction(3, 4)\n",
        "print(fraction)  # Output: 3/4\n"
      ],
      "metadata": {
        "colab": {
          "base_uri": "https://localhost:8080/"
        },
        "id": "GuI6C_Gpwx2a",
        "outputId": "399118f4-a8f2-45e8-9ec3-7a7768e3fc0f"
      },
      "execution_count": 12,
      "outputs": [
        {
          "output_type": "stream",
          "name": "stdout",
          "text": [
            "3/4\n"
          ]
        }
      ]
    },
    {
      "cell_type": "markdown",
      "source": [
        "10.  Demonstrate operator overloading by creating a class Vector and overriding the add method to add two\n",
        "vectors"
      ],
      "metadata": {
        "id": "G-G0Wnciw54K"
      }
    },
    {
      "cell_type": "code",
      "source": [
        "class Vector:\n",
        "    def __init__(self, x, y):\n",
        "        self.x = x\n",
        "        self.y = y\n",
        "\n",
        "    # Overloading the + operator to add two vectors\n",
        "    def __add__(self, other):\n",
        "        if isinstance(other, Vector):\n",
        "            return Vector(self.x + other.x, self.y + other.y)\n",
        "        return NotImplemented\n",
        "\n",
        "    # Override __str__ to print the vector in a readable format\n",
        "    def __str__(self):\n",
        "        return f\"({self.x}, {self.y})\"\n",
        "\n",
        "# Example usage\n",
        "v1 = Vector(3, 4)\n",
        "v2 = Vector(1, 2)\n",
        "\n",
        "# Adding two vectors using the overloaded + operator\n",
        "v3 = v1 + v2\n",
        "\n",
        "print(\"Vector 1:\", v1)  # Output: Vector 1: (3, 4)\n",
        "print(\"Vector 2:\", v2)  # Output: Vector 2: (1, 2)\n",
        "print(\"Sum of Vectors:\", v3)  # Output: Sum of Vectors: (4, 6)\n"
      ],
      "metadata": {
        "colab": {
          "base_uri": "https://localhost:8080/"
        },
        "id": "I3pRBlXHw-Sb",
        "outputId": "9b5ec4c1-cc1d-4d9a-9939-4962d049898d"
      },
      "execution_count": 13,
      "outputs": [
        {
          "output_type": "stream",
          "name": "stdout",
          "text": [
            "Vector 1: (3, 4)\n",
            "Vector 2: (1, 2)\n",
            "Sum of Vectors: (4, 6)\n"
          ]
        }
      ]
    },
    {
      "cell_type": "markdown",
      "source": [
        "11.  Create a class Person with attributes name and age. Add a method greet() that prints \"Hello, my name is\n",
        "{name} and I am {age} years old.\""
      ],
      "metadata": {
        "id": "Gsk1RuB1xNdi"
      }
    },
    {
      "cell_type": "code",
      "source": [
        "# Here's how you can create a Person class with the attributes name and age, and a method greet() that prints the desired greeting:\n",
        "class Person:\n",
        "    def __init__(self, name, age):\n",
        "        self.name = name\n",
        "        self.age = age\n",
        "\n",
        "    # Method to greet\n",
        "    def greet(self):\n",
        "        print(f\"Hello, my name is {self.name} and I am {self.age} years old.\")\n",
        "\n",
        "# Example usage\n",
        "person1 = Person(\"Bijay\", 22)\n",
        "person1.greet()  # Output: Hello, my name is Bijay and I am 22 years old.\n",
        "\n",
        "person2 = Person(\"Ajay\", 25)\n",
        "person2.greet()  # Output: Hello, my name is Ajay and I am 25 years old.\n"
      ],
      "metadata": {
        "colab": {
          "base_uri": "https://localhost:8080/"
        },
        "id": "Ea9ko56jxVl6",
        "outputId": "a18749fa-d75e-4c27-b7dd-a0142b7767e8"
      },
      "execution_count": 15,
      "outputs": [
        {
          "output_type": "stream",
          "name": "stdout",
          "text": [
            "Hello, my name is Bijay and I am 22 years old.\n",
            "Hello, my name is Ajay and I am 25 years old.\n"
          ]
        }
      ]
    },
    {
      "cell_type": "markdown",
      "source": [
        "12.  Implement a class Student with attributes name and grades. Create a method average_grade() to compute\n",
        "the average of the grades."
      ],
      "metadata": {
        "id": "1eBVL2YzyE8C"
      }
    },
    {
      "cell_type": "code",
      "source": [
        "class Student:\n",
        "    def __init__(self, name, grades):\n",
        "        self.name = name\n",
        "        self.grades = grades  # List of grades\n",
        "\n",
        "    # Method to compute the average grade\n",
        "    def average_grade(self):\n",
        "        if len(self.grades) > 0:\n",
        "            return sum(self.grades) / len(self.grades)\n",
        "        return 0  # Return 0 if there are no grades\n",
        "\n",
        "# Example usage\n",
        "student1 = Student(\"Bijay\", [90, 85, 88, 92])\n",
        "print(f\"{student1.name}'s average grade: {student1.average_grade()}\")  # Output: Bijay's average grade: 88.75\n",
        "\n",
        "student2 = Student(\"Ajay\", [78, 82, 80, 85])\n",
        "print(f\"{student2.name}'s average grade: {student2.average_grade()}\")  # Output: Ajay's average grade: 81.25\n"
      ],
      "metadata": {
        "colab": {
          "base_uri": "https://localhost:8080/"
        },
        "id": "XcYIuYVLyTl6",
        "outputId": "d2d5cfec-efe7-41e5-f38c-13be69cdadc9"
      },
      "execution_count": 17,
      "outputs": [
        {
          "output_type": "stream",
          "name": "stdout",
          "text": [
            "Bijay's average grade: 88.75\n",
            "Ajay's average grade: 81.25\n"
          ]
        }
      ]
    },
    {
      "cell_type": "markdown",
      "source": [
        "13.  Create a class Rectangle with methods set_dimensions() to set the dimensions and area() to calculate the\n",
        "area."
      ],
      "metadata": {
        "id": "IbkxQbFmypUi"
      }
    },
    {
      "cell_type": "code",
      "source": [
        "class Rectangle:\n",
        "    def __init__(self):\n",
        "        self.length = 0\n",
        "        self.width = 0\n",
        "\n",
        "    # Method to set the dimensions of the rectangle\n",
        "    def set_dimensions(self, length, width):\n",
        "        self.length = length\n",
        "        self.width = width\n",
        "\n",
        "    # Method to calculate the area of the rectangle\n",
        "    def area(self):\n",
        "        return self.length * self.width\n",
        "\n",
        "# Example usage\n",
        "rectangle = Rectangle()\n",
        "\n",
        "# Set dimensions for the rectangle\n",
        "rectangle.set_dimensions(5, 3)\n",
        "\n",
        "# Calculate and print the area\n",
        "print(f\"Area of the rectangle: {rectangle.area()}\")  # Output: Area of the rectangle: 15\n"
      ],
      "metadata": {
        "colab": {
          "base_uri": "https://localhost:8080/"
        },
        "id": "-lA5uFDbyuVq",
        "outputId": "0b6ecd48-b6b8-4ec8-e876-857820072ad5"
      },
      "execution_count": 18,
      "outputs": [
        {
          "output_type": "stream",
          "name": "stdout",
          "text": [
            "Area of the rectangle: 15\n"
          ]
        }
      ]
    },
    {
      "cell_type": "markdown",
      "source": [
        "14.  Create a class Employee with a method calculate_salary() that computes the salary based on hours worked\n",
        "and hourly rate. Create a derived class Manager that adds a bonus to the salary"
      ],
      "metadata": {
        "id": "-tEbvkFszF8a"
      }
    },
    {
      "cell_type": "code",
      "source": [
        "class Employee:\n",
        "    def __init__(self, name=\"Bijay\", age=22):\n",
        "        self.name = name\n",
        "        self.age = age\n",
        "\n",
        "    # Method to calculate salary based on hours worked and hourly rate\n",
        "    def calculate_salary(self, hours_worked, hourly_rate):\n",
        "        return hours_worked * hourly_rate\n",
        "\n",
        "class Manager(Employee):\n",
        "    def __init__(self, name=\"Bijay\", age=22, bonus=0):\n",
        "        super().__init__(name, age)\n",
        "        self.bonus = bonus\n",
        "\n",
        "    # Method to calculate salary for a manager with a bonus\n",
        "    def calculate_salary(self, hours_worked, hourly_rate):\n",
        "        base_salary = super().calculate_salary(hours_worked, hourly_rate)\n",
        "        return base_salary + self.bonus\n",
        "\n",
        "# Example usage\n",
        "employee = Employee()\n",
        "manager = Manager(bonus=500)\n",
        "\n",
        "# Employee salary calculation\n",
        "employee_salary = employee.calculate_salary(40, 20)\n",
        "print(f\"{employee.name}'s Salary: {employee_salary}\")  # Output: Bijay's Salary: 800\n",
        "\n",
        "# Manager salary calculation\n",
        "manager_salary = manager.calculate_salary(40, 20)\n",
        "print(f\"{manager.name}'s Salary with Bonus: {manager_salary}\")  # Output: Bijay's Salary with Bonus: 1300\n"
      ],
      "metadata": {
        "colab": {
          "base_uri": "https://localhost:8080/"
        },
        "id": "qVYQh_FWzOwC",
        "outputId": "0cf500dc-57dc-4fd1-968c-5fcb0c868787"
      },
      "execution_count": 19,
      "outputs": [
        {
          "output_type": "stream",
          "name": "stdout",
          "text": [
            "Bijay's Salary: 800\n",
            "Bijay's Salary with Bonus: 1300\n"
          ]
        }
      ]
    },
    {
      "cell_type": "markdown",
      "source": [
        "15. Create a class Product with attributes name, price, and quantity. Implement a method total_price() that\n",
        "calculates the total price of the product."
      ],
      "metadata": {
        "id": "guWeZjoj0HPJ"
      }
    },
    {
      "cell_type": "code",
      "source": [
        "class Product:\n",
        "    def __init__(self, name, price, quantity):\n",
        "        self.name = name\n",
        "        self.price = price\n",
        "        self.quantity = quantity\n",
        "\n",
        "    # Method to calculate the total price of the product\n",
        "    def total_price(self):\n",
        "        return self.price * self.quantity\n",
        "\n",
        "# Example usage\n",
        "product = Product(\"Laptop\", 1000, 3)\n",
        "\n",
        "# Calculate the total price\n",
        "print(f\"Total price of {product.name}: ${product.total_price()}\")  # Output: Total price of Laptop: $3000\n"
      ],
      "metadata": {
        "colab": {
          "base_uri": "https://localhost:8080/"
        },
        "id": "0QBRwURy0OUq",
        "outputId": "55d34eb2-e0d3-4ea4-ed42-b14584a01b07"
      },
      "execution_count": 20,
      "outputs": [
        {
          "output_type": "stream",
          "name": "stdout",
          "text": [
            "Total price of Laptop: $3000\n"
          ]
        }
      ]
    },
    {
      "cell_type": "markdown",
      "source": [
        "16.  Create a class Animal with an abstract method sound(). Create two derived classes Cow and Sheep that\n",
        "implement the sound() method"
      ],
      "metadata": {
        "id": "JDUJA6_F0fYq"
      }
    },
    {
      "cell_type": "code",
      "source": [
        "from abc import ABC, abstractmethod\n",
        "\n",
        "# Abstract class\n",
        "class Animal(ABC):\n",
        "    @abstractmethod\n",
        "    def sound(self):\n",
        "        pass\n",
        "\n",
        "# Derived class - Cow\n",
        "class Cow(Animal):\n",
        "    def sound(self):\n",
        "        print(\"Moo\")\n",
        "\n",
        "# Derived class - Sheep\n",
        "class Sheep(Animal):\n",
        "    def sound(self):\n",
        "        print(\"Baa\")\n",
        "\n",
        "# Example usage\n",
        "cow = Cow()\n",
        "sheep = Sheep()\n",
        "\n",
        "cow.sound()  # Output: Moo\n",
        "sheep.sound()  # Output: Baa\n"
      ],
      "metadata": {
        "colab": {
          "base_uri": "https://localhost:8080/"
        },
        "id": "MxnTMI_E0w3p",
        "outputId": "6f9ea8a3-2eb2-42a0-fdde-386f494905c8"
      },
      "execution_count": 21,
      "outputs": [
        {
          "output_type": "stream",
          "name": "stdout",
          "text": [
            "Moo\n",
            "Baa\n"
          ]
        }
      ]
    },
    {
      "cell_type": "markdown",
      "source": [
        "17.  Create a class Book with attributes title, author, and year_published. Add a method get_book_info() that\n",
        "returns a formatted string with the book's details."
      ],
      "metadata": {
        "id": "KuequSDl1F1p"
      }
    },
    {
      "cell_type": "code",
      "source": [
        "class Book:\n",
        "    def __init__(self, title, author, year_published):\n",
        "        self.title = title\n",
        "        self.author = author\n",
        "        self.year_published = year_published\n",
        "\n",
        "    # Method to return a formatted string with the book's details\n",
        "    def get_book_info(self):\n",
        "        return f\"Title: {self.title}\\nAuthor: {self.author}\\nYear Published: {self.year_published}\"\n",
        "\n",
        "# Example usage\n",
        "book1 = Book(\"The Great Gatsby\", \"F. Scott Fitzgerald\", 1925)\n",
        "\n",
        "# Get book info\n",
        "print(book1.get_book_info())\n"
      ],
      "metadata": {
        "colab": {
          "base_uri": "https://localhost:8080/"
        },
        "id": "ZzH21D1o1OFp",
        "outputId": "b337906a-87ef-4751-bcdb-a7f1a35caaa6"
      },
      "execution_count": 22,
      "outputs": [
        {
          "output_type": "stream",
          "name": "stdout",
          "text": [
            "Title: The Great Gatsby\n",
            "Author: F. Scott Fitzgerald\n",
            "Year Published: 1925\n"
          ]
        }
      ]
    },
    {
      "cell_type": "markdown",
      "source": [
        "18.  Create a class House with attributes address and price. Create a derived class Mansion that adds an\n",
        "attribute number_of_rooms."
      ],
      "metadata": {
        "id": "Vqpim9rN2d7w"
      }
    },
    {
      "cell_type": "code",
      "source": [
        "# Base class - House\n",
        "class House:\n",
        "    def __init__(self, address, price):\n",
        "        self.address = address\n",
        "        self.price = price\n",
        "\n",
        "    # Method to display house information\n",
        "    def display_info(self):\n",
        "        return f\"Address: {self.address}\\nPrice: ${self.price}\"\n",
        "\n",
        "# Derived class - Mansion\n",
        "class Mansion(House):\n",
        "    def __init__(self, address, price, number_of_rooms):\n",
        "        super().__init__(address, price)  # Call the constructor of the base class\n",
        "        self.number_of_rooms = number_of_rooms\n",
        "\n",
        "    # Override method to display mansion information\n",
        "    def display_info(self):\n",
        "        base_info = super().display_info()\n",
        "        return f\"{base_info}\\nNumber of Rooms: {self.number_of_rooms}\"\n",
        "\n",
        "# Example usage\n",
        "house = House(\"123 Elm Street\", 250000)\n",
        "mansion = Mansion(\"456 Grand Avenue\", 5000000, 15)\n",
        "\n",
        "# Displaying information\n",
        "print(house.display_info())  # Output: Address: 123 Elm Street, Price: $250000\n",
        "print(mansion.display_info())  # Output: Address: 456 Grand Avenue, Price: $5000000, Number of Rooms: 15\n"
      ],
      "metadata": {
        "colab": {
          "base_uri": "https://localhost:8080/"
        },
        "id": "YAmy1jbG2gpA",
        "outputId": "9387aac6-07a5-43bd-d526-46409ac6d968"
      },
      "execution_count": 23,
      "outputs": [
        {
          "output_type": "stream",
          "name": "stdout",
          "text": [
            "Address: 123 Elm Street\n",
            "Price: $250000\n",
            "Address: 456 Grand Avenue\n",
            "Price: $5000000\n",
            "Number of Rooms: 15\n"
          ]
        }
      ]
    }
  ]
}